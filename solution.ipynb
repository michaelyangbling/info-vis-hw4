{
 "cells": [
  {
   "cell_type": "markdown",
   "metadata": {},
   "source": [
    "# since hw4 follows hw3, these are hw3 sections in the beginning. hw4 sections will follow. please scroll down until hw4 sections"
   ]
  },
  {
   "cell_type": "markdown",
   "metadata": {},
   "source": [
    "## data processing before questions"
   ]
  },
  {
   "cell_type": "code",
   "execution_count": 1,
   "metadata": {},
   "outputs": [
    {
     "name": "stderr",
     "output_type": "stream",
     "text": [
      "/Users/yzh/anaconda3/lib/python3.6/site-packages/IPython/core/interactiveshell.py:2785: DtypeWarning: Columns (0,3) have mixed types. Specify dtype option on import or set low_memory=False.\n",
      "  interactivity=interactivity, compiler=compiler, result=result)\n"
     ]
    }
   ],
   "source": [
    "%matplotlib inline\n",
    "import pandas as pd\n",
    "fiscal=pd.read_csv(\"Sdf16_1a.txt\", sep='\\t')\n",
    "\n",
    "#aggregate by states\n",
    "\n",
    "\n",
    "#get total non-federal fund\n",
    "non_federal_fund_list=['T06', 'T09', 'T15', 'T40', 'T99','T02',\n",
    "                      'D23','D11','A07','A08','A11','A09','A13',\n",
    "                      'A20','A40','U11','U22','U30','U50','U97',\n",
    "                      'C01','C04','C05','C06','C07','C08','C09',\n",
    "                      'C10','C11','C12','C13']\n",
    "fiscal['non_federal_fund']=0\n",
    "for column_name in non_federal_fund_list:\n",
    "    fiscal.non_federal_fund+=fiscal[column_name]\n",
    "\n",
    "#get total expenditure\n",
    "expenditure_list=['E13','E17','E07','E08','E08', 'E09',\n",
    "                 'V40','V45','V90','E11','V60','V65','V70',\n",
    "                 'V75','V80','F12','G15','K09','K10','Q11',\n",
    "                 'L12','M12','I86']\n",
    "fiscal['expen']=0\n",
    "for column_name in expenditure_list:\n",
    "    fiscal.expen+=fiscal[column_name]\n",
    "    \n",
    "\n",
    "#get total federal fund\n",
    "list2=['C14','C15','C16','C17','C19',\n",
    "                          'C25','B11','C20','B10','B12','B13']\n",
    "fiscal['new_federal_fund']=0\n",
    "for column_name in list2:\n",
    "    fiscal.new_federal_fund+=fiscal[column_name]\n",
    "\n",
    "fiscal['expen']=0\n",
    "for column_name in expenditure_list:\n",
    "    fiscal.expen+=fiscal[column_name]\n",
    "#get total federal fund\n",
    "state_fis=fiscal.groupby(['STNAME'])['V33','C14','C15','C16','C17','C19',\n",
    "                          'C25','B11','C20','B10','B12','B13','non_federal_fund',\n",
    "                                    'expen'].agg('sum')\n",
    "state_fis['federal_fund']=state_fis.C14+state_fis.C15+state_fis.C16+state_fis.C17+\\\n",
    "state_fis.C19+state_fis.C25+state_fis.B11+state_fis.C20+state_fis.B10+\\\n",
    "state_fis.B12+state_fis.B13\n",
    "state_fis['num_pupil']=state_fis['V33']"
   ]
  },
  {
   "cell_type": "markdown",
   "metadata": {},
   "source": [
    "# Question 1"
   ]
  },
  {
   "cell_type": "markdown",
   "metadata": {},
   "source": [
    "## Rank and visualize the states that take in the most federal funding (revenue)."
   ]
  },
  {
   "cell_type": "code",
   "execution_count": 2,
   "metadata": {},
   "outputs": [
    {
     "data": {
      "text/plain": [
       "Text(0,0.5,'funding')"
      ]
     },
     "execution_count": 2,
     "metadata": {},
     "output_type": "execute_result"
    },
    {
     "data": {
      "image/png": "[encoded data removed]",
      "text/plain": [
       "<Figure size 1080x720 with 1 Axes>"
      ]
     },
     "metadata": {},
     "output_type": "display_data"
    }
   ],
   "source": [
    "\n",
    "\n",
    "#rank and visualize\n",
    "state_fis.sort_values(\"federal_fund\", ascending=False, inplace=True, kind='quicksort', na_position='last')\n",
    "# import matplotlib.pyplot as plt\n",
    "# plt.show()\n",
    "ax = state_fis[['federal_fund']].head(10).plot(kind='bar', title =\"total federal funding by state (top 10 states)\", figsize=(15, 10), legend=True, fontsize=12)\n",
    "ax.set_xlabel(\"state\", fontsize=12)\n",
    "ax.set_ylabel(\"funding\", fontsize=12)"
   ]
  },
  {
   "cell_type": "markdown",
   "metadata": {},
   "source": [
    "## Which states spend the most federal funding per student?  Answer: district of columbia , according to output below"
   ]
  },
  {
   "cell_type": "code",
   "execution_count": 3,
   "metadata": {},
   "outputs": [
    {
     "data": {
      "text/html": [
       "<div>\n",
       "<style scoped>\n",
       "    .dataframe tbody tr th:only-of-type {\n",
       "        vertical-align: middle;\n",
       "    }\n",
       "\n",
       "    .dataframe tbody tr th {\n",
       "        vertical-align: top;\n",
       "    }\n",
       "\n",
       "    .dataframe thead th {\n",
       "        text-align: right;\n",
       "    }\n",
       "</style>\n",
       "<table border=\"1\" class=\"dataframe\">\n",
       "  <thead>\n",
       "    <tr style=\"text-align: right;\">\n",
       "      <th></th>\n",
       "      <th>V33</th>\n",
       "      <th>C14</th>\n",
       "      <th>C15</th>\n",
       "      <th>C16</th>\n",
       "      <th>C17</th>\n",
       "      <th>C19</th>\n",
       "      <th>C25</th>\n",
       "      <th>B11</th>\n",
       "      <th>C20</th>\n",
       "      <th>B10</th>\n",
       "      <th>B12</th>\n",
       "      <th>B13</th>\n",
       "      <th>non_federal_fund</th>\n",
       "      <th>expen</th>\n",
       "      <th>federal_fund</th>\n",
       "      <th>num_pupil</th>\n",
       "      <th>funding_per_capita</th>\n",
       "    </tr>\n",
       "    <tr>\n",
       "      <th>STNAME</th>\n",
       "      <th></th>\n",
       "      <th></th>\n",
       "      <th></th>\n",
       "      <th></th>\n",
       "      <th></th>\n",
       "      <th></th>\n",
       "      <th></th>\n",
       "      <th></th>\n",
       "      <th></th>\n",
       "      <th></th>\n",
       "      <th></th>\n",
       "      <th></th>\n",
       "      <th></th>\n",
       "      <th></th>\n",
       "      <th></th>\n",
       "      <th></th>\n",
       "      <th></th>\n",
       "    </tr>\n",
       "  </thead>\n",
       "  <tbody>\n",
       "    <tr>\n",
       "      <th>District of Columbia</th>\n",
       "      <td>83369</td>\n",
       "      <td>44418985</td>\n",
       "      <td>15600985</td>\n",
       "      <td>9436985</td>\n",
       "      <td>320985</td>\n",
       "      <td>3210985</td>\n",
       "      <td>44391985</td>\n",
       "      <td>778985</td>\n",
       "      <td>63339985</td>\n",
       "      <td>44680985</td>\n",
       "      <td>-15</td>\n",
       "      <td>20985</td>\n",
       "      <td>1943229739</td>\n",
       "      <td>2352554655</td>\n",
       "      <td>226201835</td>\n",
       "      <td>83369</td>\n",
       "      <td>2713.260744</td>\n",
       "    </tr>\n",
       "  </tbody>\n",
       "</table>\n",
       "</div>"
      ],
      "text/plain": [
       "                        V33       C14       C15      C16     C17      C19  \\\n",
       "STNAME                                                                      \n",
       "District of Columbia  83369  44418985  15600985  9436985  320985  3210985   \n",
       "\n",
       "                           C25     B11       C20       B10  B12    B13  \\\n",
       "STNAME                                                                   \n",
       "District of Columbia  44391985  778985  63339985  44680985  -15  20985   \n",
       "\n",
       "                      non_federal_fund       expen  federal_fund  num_pupil  \\\n",
       "STNAME                                                                        \n",
       "District of Columbia        1943229739  2352554655     226201835      83369   \n",
       "\n",
       "                      funding_per_capita  \n",
       "STNAME                                    \n",
       "District of Columbia         2713.260744  "
      ]
     },
     "execution_count": 3,
     "metadata": {},
     "output_type": "execute_result"
    }
   ],
   "source": [
    "state_fis['funding_per_capita']=state_fis['federal_fund']/state_fis['num_pupil']\n",
    "state_fis.sort_values(\"funding_per_capita\", ascending=False, inplace=True, kind='quicksort', na_position='last')\n",
    "state_fis.head(1)"
   ]
  },
  {
   "cell_type": "markdown",
   "metadata": {},
   "source": [
    "# Question 2"
   ]
  },
  {
   "cell_type": "markdown",
   "metadata": {},
   "source": [
    "## Visualize the relationship between school districts’ total revenue and expenditures."
   ]
  },
  {
   "cell_type": "code",
   "execution_count": 4,
   "metadata": {},
   "outputs": [
    {
     "data": {
      "text/plain": [
       "Text(0,0.5,'total expense of a LEA')"
      ]
     },
     "execution_count": 4,
     "metadata": {},
     "output_type": "execute_result"
    },
    {
     "data": {
      "image/png": "[encoded data removed]",
      "text/plain": [
       "<Figure size 432x288 with 1 Axes>"
      ]
     },
     "metadata": {},
     "output_type": "display_data"
    }
   ],
   "source": [
    "fiscal['total_rev']=fiscal.new_federal_fund+fiscal.non_federal_fund\n",
    "ax = fiscal.plot(kind='scatter',x='total_rev',y='expen',\n",
    "                    title=\" total revenue and expense's relationship\")\n",
    "ax.set_xlabel(\"total_revenue of LEA(local education authority)\", fontsize=12)\n",
    "ax.set_ylabel(\"total expense of a LEA\", fontsize=12)"
   ]
  },
  {
   "cell_type": "code",
   "execution_count": 5,
   "metadata": {},
   "outputs": [
    {
     "data": {
      "text/plain": [
       "Text(0,0.5,'total expense of a state')"
      ]
     },
     "execution_count": 5,
     "metadata": {},
     "output_type": "execute_result"
    },
    {
     "data": {
      "image/png": "[encoded data removed]",
      "text/plain": [
       "<Figure size 432x288 with 1 Axes>"
      ]
     },
     "metadata": {},
     "output_type": "display_data"
    }
   ],
   "source": [
    "state_fis_no_index=state_fis.reset_index()\n",
    "state_fis['total_rev']=state_fis.federal_fund+state_fis.non_federal_fund\n",
    "ax = state_fis.plot(kind='scatter',x='total_rev',y='expen',\n",
    "                    title=\" total revenue and expense's relationship\")\n",
    "ax.set_xlabel(\"total_revenue of a state\", fontsize=12)\n",
    "ax.set_ylabel(\"total expense of a state\", fontsize=12)"
   ]
  },
  {
   "cell_type": "markdown",
   "metadata": {},
   "source": [
    "## Which states have the most debt per student?\n",
    "## answser: alaska, according to output below"
   ]
  },
  {
   "cell_type": "code",
   "execution_count": 6,
   "metadata": {},
   "outputs": [
    {
     "data": {
      "text/html": [
       "<div>\n",
       "<style scoped>\n",
       "    .dataframe tbody tr th:only-of-type {\n",
       "        vertical-align: middle;\n",
       "    }\n",
       "\n",
       "    .dataframe tbody tr th {\n",
       "        vertical-align: top;\n",
       "    }\n",
       "\n",
       "    .dataframe thead th {\n",
       "        text-align: right;\n",
       "    }\n",
       "</style>\n",
       "<table border=\"1\" class=\"dataframe\">\n",
       "  <thead>\n",
       "    <tr style=\"text-align: right;\">\n",
       "      <th></th>\n",
       "      <th>V33</th>\n",
       "      <th>C14</th>\n",
       "      <th>C15</th>\n",
       "      <th>C16</th>\n",
       "      <th>C17</th>\n",
       "      <th>C19</th>\n",
       "      <th>C25</th>\n",
       "      <th>B11</th>\n",
       "      <th>C20</th>\n",
       "      <th>B10</th>\n",
       "      <th>B12</th>\n",
       "      <th>B13</th>\n",
       "      <th>non_federal_fund</th>\n",
       "      <th>expen</th>\n",
       "      <th>federal_fund</th>\n",
       "      <th>num_pupil</th>\n",
       "      <th>funding_per_capita</th>\n",
       "      <th>total_rev</th>\n",
       "      <th>debt_per_capita</th>\n",
       "    </tr>\n",
       "    <tr>\n",
       "      <th>STNAME</th>\n",
       "      <th></th>\n",
       "      <th></th>\n",
       "      <th></th>\n",
       "      <th></th>\n",
       "      <th></th>\n",
       "      <th></th>\n",
       "      <th></th>\n",
       "      <th></th>\n",
       "      <th></th>\n",
       "      <th></th>\n",
       "      <th></th>\n",
       "      <th></th>\n",
       "      <th></th>\n",
       "      <th></th>\n",
       "      <th></th>\n",
       "      <th></th>\n",
       "      <th></th>\n",
       "      <th></th>\n",
       "      <th></th>\n",
       "    </tr>\n",
       "  </thead>\n",
       "  <tbody>\n",
       "    <tr>\n",
       "      <th>Arkansas</th>\n",
       "      <td>492084</td>\n",
       "      <td>160911973</td>\n",
       "      <td>132132973</td>\n",
       "      <td>21266973</td>\n",
       "      <td>-27</td>\n",
       "      <td>7044973</td>\n",
       "      <td>189581973</td>\n",
       "      <td>3054973</td>\n",
       "      <td>59749973</td>\n",
       "      <td>-27</td>\n",
       "      <td>154973</td>\n",
       "      <td>33046973</td>\n",
       "      <td>3396600208</td>\n",
       "      <td>5663706379</td>\n",
       "      <td>606945703</td>\n",
       "      <td>492084</td>\n",
       "      <td>1233.418894</td>\n",
       "      <td>4003545911</td>\n",
       "      <td>3373.733891</td>\n",
       "    </tr>\n",
       "  </tbody>\n",
       "</table>\n",
       "</div>"
      ],
      "text/plain": [
       "             V33        C14        C15       C16  C17      C19        C25  \\\n",
       "STNAME                                                                      \n",
       "Arkansas  492084  160911973  132132973  21266973  -27  7044973  189581973   \n",
       "\n",
       "              B11       C20  B10     B12       B13  non_federal_fund  \\\n",
       "STNAME                                                                 \n",
       "Arkansas  3054973  59749973  -27  154973  33046973        3396600208   \n",
       "\n",
       "               expen  federal_fund  num_pupil  funding_per_capita   total_rev  \\\n",
       "STNAME                                                                          \n",
       "Arkansas  5663706379     606945703     492084         1233.418894  4003545911   \n",
       "\n",
       "          debt_per_capita  \n",
       "STNAME                     \n",
       "Arkansas      3373.733891  "
      ]
     },
     "execution_count": 6,
     "metadata": {},
     "output_type": "execute_result"
    }
   ],
   "source": [
    "state_fis['debt_per_capita']=(state_fis.expen-state_fis['total_rev'])/\\\n",
    "                              state_fis['num_pupil']\n",
    "state_fis.sort_values(\"debt_per_capita\", ascending=False, inplace=True, kind='quicksort', na_position='last')\n",
    "state_fis.head(1)"
   ]
  },
  {
   "cell_type": "markdown",
   "metadata": {},
   "source": [
    "# Question 3"
   ]
  },
  {
   "cell_type": "code",
   "execution_count": 7,
   "metadata": {
    "scrolled": true
   },
   "outputs": [
    {
     "name": "stderr",
     "output_type": "stream",
     "text": [
      "/Users/yzh/anaconda3/lib/python3.6/site-packages/IPython/core/interactiveshell.py:2785: DtypeWarning: Columns (17) have mixed types. Specify dtype option on import or set low_memory=False.\n",
      "  interactivity=interactivity, compiler=compiler, result=result)\n"
     ]
    }
   ],
   "source": [
    "perform=pd.read_csv('/Users/yzh/Downloads/math-achievement-lea-sy2015-16.csv')"
   ]
  },
  {
   "cell_type": "markdown",
   "metadata": {},
   "source": [
    "## use ALL_MTH00PCTPROF_1516: percentage of  students over the proficiency.\n",
    "## my function, for instance, converts 20%-25% to 22.5%\n",
    "## Also it converts other value like PS which is na value, into np.nan\n",
    "## plot is shown below"
   ]
  },
  {
   "cell_type": "code",
   "execution_count": 8,
   "metadata": {
    "scrolled": true
   },
   "outputs": [
    {
     "data": {
      "text/plain": [
       "Text(0,0.5,'number of LEAs( local education authority)')"
      ]
     },
     "execution_count": 8,
     "metadata": {},
     "output_type": "execute_result"
    },
    {
     "data": {
      "image/png": "[encoded data removed]",
      "text/plain": [
       "<Figure size 432x288 with 1 Axes>"
      ]
     },
     "metadata": {},
     "output_type": "display_data"
    }
   ],
   "source": [
    "import numpy as np\n",
    "def starts_with_num(mystr):\n",
    "    nums=['0','1','2','3','4','5','6','7','8','9']\n",
    "    myset=set(nums)\n",
    "    if mystr[0] in myset:\n",
    "        return True\n",
    "    return False\n",
    "\n",
    "\n",
    "def convert(series):\n",
    "  res=[]\n",
    "  for score in list(series): \n",
    "    if starts_with_num(score): #if starts with a number( must be string )\n",
    "        index=score.find('-') #first occurence of '-'\n",
    "        if index<0: #an exact number\n",
    "            res.append( int(score) )\n",
    "        else: #get middle value of the range\n",
    "            res.append( ( int(score[0:index])+int(score[index+1:]) )/2 )\n",
    "    else:  #get rid of PS values etc. PS is just NA value\n",
    "        res.append(np.nan)\n",
    "  return res\n",
    "\n",
    "ax=pd.Series( convert(perform.ALL_MTH00PCTPROF_1516) ).hist()\n",
    "ax.set_xlabel('percentage of  students over the proficiency, processed')\n",
    "ax.set_ylabel('number of LEAs( local education authority)')"
   ]
  },
  {
   "cell_type": "markdown",
   "metadata": {},
   "source": [
    "## problem 4"
   ]
  },
  {
   "cell_type": "code",
   "execution_count": 9,
   "metadata": {},
   "outputs": [],
   "source": [
    "perform['lea_score']=convert(perform.ALL_MTH00PCTPROF_1516)\n",
    "perform['LEAID']=perform['LEAID'].astype('object')\n",
    "fiscal=pd.merge(fiscal, perform[['LEAID', 'lea_score']], how='left', on=['LEAID'])"
   ]
  },
  {
   "cell_type": "markdown",
   "metadata": {},
   "source": [
    "## 8124824777.7 dollar will be cut "
   ]
  },
  {
   "cell_type": "code",
   "execution_count": 10,
   "metadata": {},
   "outputs": [
    {
     "name": "stdout",
     "output_type": "stream",
     "text": [
      "cut money: 8124890627.7\n"
     ]
    }
   ],
   "source": [
    "total_cut=sum(fiscal.new_federal_fund)*0.15\n",
    "print('cut money:', total_cut)"
   ]
  },
  {
   "cell_type": "markdown",
   "metadata": {},
   "source": [
    "## a good portion of shcools have non_federal_funds( funds except federal) more than the expense."
   ]
  },
  {
   "cell_type": "code",
   "execution_count": 11,
   "metadata": {},
   "outputs": [
    {
     "data": {
      "text/plain": [
       "Text(0,0.5,'number of LEAs( local education authority)')"
      ]
     },
     "execution_count": 11,
     "metadata": {},
     "output_type": "execute_result"
    },
    {
     "data": {
      "image/png": "[encoded data removed]",
      "text/plain": [
       "<Figure size 432x288 with 1 Axes>"
      ]
     },
     "metadata": {},
     "output_type": "display_data"
    }
   ],
   "source": [
    "fiscal['ratio']=( fiscal.non_federal_fund )/ (fiscal.expen)\n",
    "fiscal=fiscal[fiscal.ratio!=float('Inf')]\n",
    "fiscal=fiscal[fiscal.ratio!=-float('Inf')]\n",
    "\n",
    "ax=fiscal['ratio'].hist(bins=100)\n",
    "ax.set_xlabel('total_revenue/total_expense')\n",
    "ax.set_ylabel('number of LEAs( local education authority)')"
   ]
  },
  {
   "cell_type": "markdown",
   "metadata": {},
   "source": [
    "## so we can cut the federal funds from LEAs with almost enough non_federal_fund (covers 90% of expense)\n",
    "\n",
    "## federal fund from the LEAs with non_federal_fund covering more than 90% expense > all the fund tha need to cut "
   ]
  },
  {
   "cell_type": "code",
   "execution_count": 12,
   "metadata": {},
   "outputs": [
    {
     "name": "stdout",
     "output_type": "stream",
     "text": [
      "9867129000 8124890627.7\n"
     ]
    },
    {
     "data": {
      "text/plain": [
       "True"
      ]
     },
     "execution_count": 12,
     "metadata": {},
     "output_type": "execute_result"
    }
   ],
   "source": [
    "funds=fiscal[fiscal.expen>0]\n",
    "funds=funds[funds.non_federal_fund>0]\n",
    "funds=funds[( funds.non_federal_fund )/ (funds.expen)>0.9]\n",
    "funds=funds[funds.lea_score>=0]\n",
    "\n",
    "print(funds['new_federal_fund'].sum(), total_cut)\n",
    "funds['new_federal_fund'].sum()>=total_cut"
   ]
  },
  {
   "cell_type": "code",
   "execution_count": 13,
   "metadata": {},
   "outputs": [
    {
     "data": {
      "text/plain": [
       "Index(['LEAID', 'CENSUSID', 'FIPST', 'CONUM', 'CSA', 'CBSA', 'NAME', 'STNAME',\n",
       "       'STABBR', 'SCHLEV',\n",
       "       ...\n",
       "       'FL_V02', 'FL_K14', 'FL_CE1', 'FL_CE2', 'non_federal_fund', 'expen',\n",
       "       'new_federal_fund', 'total_rev', 'lea_score', 'ratio'],\n",
       "      dtype='object', length=266)"
      ]
     },
     "execution_count": 13,
     "metadata": {},
     "output_type": "execute_result"
    }
   ],
   "source": [
    "funds.columns"
   ]
  },
  {
   "cell_type": "markdown",
   "metadata": {},
   "source": [
    "## after selecting LEA with enough non-federal funds, then we sort by LEA academic score to cut high-score school's funds, and we cut schools until we have enough funds"
   ]
  },
  {
   "cell_type": "code",
   "execution_count": 14,
   "metadata": {},
   "outputs": [],
   "source": [
    "funds.sort_values(\"lea_score\", ascending=False, inplace=True,\n",
    "                      na_position='last')\n",
    "scores=list(funds['lea_score'])\n",
    "fed_funds=list(funds['new_federal_fund'])\n",
    "i=0\n",
    "sum_cut=0\n",
    "funds_cut=[]\n",
    "while sum_cut<total_cut:\n",
    "    funds_cut.append(fed_funds[i])\n",
    "    sum_cut+=fed_funds[i]\n",
    "    i+=1;\n",
    "\n",
    "output=pd.DataFrame()\n",
    "output['LEAID']=funds.head(len(funds_cut))['LEAID']\n",
    "output['fund_cut']=funds_cut"
   ]
  },
  {
   "cell_type": "markdown",
   "metadata": {},
   "source": [
    "## here is the fund_cut plan output"
   ]
  },
  {
   "cell_type": "code",
   "execution_count": 15,
   "metadata": {
    "scrolled": true
   },
   "outputs": [
    {
     "data": {
      "text/html": [
       "<div>\n",
       "<style scoped>\n",
       "    .dataframe tbody tr th:only-of-type {\n",
       "        vertical-align: middle;\n",
       "    }\n",
       "\n",
       "    .dataframe tbody tr th {\n",
       "        vertical-align: top;\n",
       "    }\n",
       "\n",
       "    .dataframe thead th {\n",
       "        text-align: right;\n",
       "    }\n",
       "</style>\n",
       "<table border=\"1\" class=\"dataframe\">\n",
       "  <thead>\n",
       "    <tr style=\"text-align: right;\">\n",
       "      <th></th>\n",
       "      <th>LEAID</th>\n",
       "      <th>fund_cut</th>\n",
       "    </tr>\n",
       "  </thead>\n",
       "  <tbody>\n",
       "    <tr>\n",
       "      <th>16153</th>\n",
       "      <td>4813020</td>\n",
       "      <td>3545000</td>\n",
       "    </tr>\n",
       "    <tr>\n",
       "      <th>6490</th>\n",
       "      <td>2503870</td>\n",
       "      <td>701000</td>\n",
       "    </tr>\n",
       "    <tr>\n",
       "      <th>15854</th>\n",
       "      <td>4800118</td>\n",
       "      <td>2977000</td>\n",
       "    </tr>\n",
       "    <tr>\n",
       "      <th>16280</th>\n",
       "      <td>4817760</td>\n",
       "      <td>2116000</td>\n",
       "    </tr>\n",
       "    <tr>\n",
       "      <th>15996</th>\n",
       "      <td>4801438</td>\n",
       "      <td>338000</td>\n",
       "    </tr>\n",
       "    <tr>\n",
       "      <th>6460</th>\n",
       "      <td>2502710</td>\n",
       "      <td>792000</td>\n",
       "    </tr>\n",
       "    <tr>\n",
       "      <th>6413</th>\n",
       "      <td>2500539</td>\n",
       "      <td>286000</td>\n",
       "    </tr>\n",
       "    <tr>\n",
       "      <th>16377</th>\n",
       "      <td>4821540</td>\n",
       "      <td>391000</td>\n",
       "    </tr>\n",
       "    <tr>\n",
       "      <th>16334</th>\n",
       "      <td>4819950</td>\n",
       "      <td>1364000</td>\n",
       "    </tr>\n",
       "    <tr>\n",
       "      <th>6569</th>\n",
       "      <td>2506930</td>\n",
       "      <td>662000</td>\n",
       "    </tr>\n",
       "    <tr>\n",
       "      <th>6628</th>\n",
       "      <td>2508910</td>\n",
       "      <td>1776000</td>\n",
       "    </tr>\n",
       "    <tr>\n",
       "      <th>15917</th>\n",
       "      <td>4800231</td>\n",
       "      <td>125000</td>\n",
       "    </tr>\n",
       "    <tr>\n",
       "      <th>16028</th>\n",
       "      <td>4807890</td>\n",
       "      <td>5462000</td>\n",
       "    </tr>\n",
       "    <tr>\n",
       "      <th>10177</th>\n",
       "      <td>3400746</td>\n",
       "      <td>80000</td>\n",
       "    </tr>\n",
       "    <tr>\n",
       "      <th>15987</th>\n",
       "      <td>4801429</td>\n",
       "      <td>186000</td>\n",
       "    </tr>\n",
       "    <tr>\n",
       "      <th>16225</th>\n",
       "      <td>4815600</td>\n",
       "      <td>200000</td>\n",
       "    </tr>\n",
       "    <tr>\n",
       "      <th>9721</th>\n",
       "      <td>3175810</td>\n",
       "      <td>96000</td>\n",
       "    </tr>\n",
       "    <tr>\n",
       "      <th>6506</th>\n",
       "      <td>2504530</td>\n",
       "      <td>145000</td>\n",
       "    </tr>\n",
       "    <tr>\n",
       "      <th>16260</th>\n",
       "      <td>4816920</td>\n",
       "      <td>126000</td>\n",
       "    </tr>\n",
       "    <tr>\n",
       "      <th>15818</th>\n",
       "      <td>4800064</td>\n",
       "      <td>37000</td>\n",
       "    </tr>\n",
       "    <tr>\n",
       "      <th>16025</th>\n",
       "      <td>4807780</td>\n",
       "      <td>1565000</td>\n",
       "    </tr>\n",
       "    <tr>\n",
       "      <th>6480</th>\n",
       "      <td>2503330</td>\n",
       "      <td>261000</td>\n",
       "    </tr>\n",
       "    <tr>\n",
       "      <th>9742</th>\n",
       "      <td>3177190</td>\n",
       "      <td>143000</td>\n",
       "    </tr>\n",
       "    <tr>\n",
       "      <th>16213</th>\n",
       "      <td>4815210</td>\n",
       "      <td>3157000</td>\n",
       "    </tr>\n",
       "    <tr>\n",
       "      <th>15980</th>\n",
       "      <td>4801422</td>\n",
       "      <td>192000</td>\n",
       "    </tr>\n",
       "    <tr>\n",
       "      <th>16207</th>\n",
       "      <td>4814920</td>\n",
       "      <td>135000</td>\n",
       "    </tr>\n",
       "    <tr>\n",
       "      <th>9714</th>\n",
       "      <td>3175390</td>\n",
       "      <td>287000</td>\n",
       "    </tr>\n",
       "    <tr>\n",
       "      <th>15958</th>\n",
       "      <td>4801394</td>\n",
       "      <td>231000</td>\n",
       "    </tr>\n",
       "    <tr>\n",
       "      <th>9632</th>\n",
       "      <td>3105630</td>\n",
       "      <td>273000</td>\n",
       "    </tr>\n",
       "    <tr>\n",
       "      <th>9596</th>\n",
       "      <td>3101992</td>\n",
       "      <td>209000</td>\n",
       "    </tr>\n",
       "    <tr>\n",
       "      <th>...</th>\n",
       "      <td>...</td>\n",
       "      <td>...</td>\n",
       "    </tr>\n",
       "    <tr>\n",
       "      <th>8476</th>\n",
       "      <td>2900606</td>\n",
       "      <td>190000</td>\n",
       "    </tr>\n",
       "    <tr>\n",
       "      <th>10000</th>\n",
       "      <td>3305700</td>\n",
       "      <td>64000</td>\n",
       "    </tr>\n",
       "    <tr>\n",
       "      <th>8582</th>\n",
       "      <td>2910260</td>\n",
       "      <td>91000</td>\n",
       "    </tr>\n",
       "    <tr>\n",
       "      <th>6961</th>\n",
       "      <td>2600970</td>\n",
       "      <td>28000</td>\n",
       "    </tr>\n",
       "    <tr>\n",
       "      <th>6888</th>\n",
       "      <td>2600264</td>\n",
       "      <td>212000</td>\n",
       "    </tr>\n",
       "    <tr>\n",
       "      <th>9251</th>\n",
       "      <td>3011340</td>\n",
       "      <td>47000</td>\n",
       "    </tr>\n",
       "    <tr>\n",
       "      <th>691</th>\n",
       "      <td>400893</td>\n",
       "      <td>621000</td>\n",
       "    </tr>\n",
       "    <tr>\n",
       "      <th>7382</th>\n",
       "      <td>2621570</td>\n",
       "      <td>2348000</td>\n",
       "    </tr>\n",
       "    <tr>\n",
       "      <th>7260</th>\n",
       "      <td>2614230</td>\n",
       "      <td>1275000</td>\n",
       "    </tr>\n",
       "    <tr>\n",
       "      <th>7421</th>\n",
       "      <td>2623670</td>\n",
       "      <td>620000</td>\n",
       "    </tr>\n",
       "    <tr>\n",
       "      <th>7262</th>\n",
       "      <td>2614280</td>\n",
       "      <td>4337000</td>\n",
       "    </tr>\n",
       "    <tr>\n",
       "      <th>7248</th>\n",
       "      <td>2612960</td>\n",
       "      <td>764000</td>\n",
       "    </tr>\n",
       "    <tr>\n",
       "      <th>7115</th>\n",
       "      <td>2603810</td>\n",
       "      <td>1281000</td>\n",
       "    </tr>\n",
       "    <tr>\n",
       "      <th>7217</th>\n",
       "      <td>2610860</td>\n",
       "      <td>1046000</td>\n",
       "    </tr>\n",
       "    <tr>\n",
       "      <th>14356</th>\n",
       "      <td>4104500</td>\n",
       "      <td>4312000</td>\n",
       "    </tr>\n",
       "    <tr>\n",
       "      <th>1510</th>\n",
       "      <td>603690</td>\n",
       "      <td>20885000</td>\n",
       "    </tr>\n",
       "    <tr>\n",
       "      <th>2002</th>\n",
       "      <td>627200</td>\n",
       "      <td>3210000</td>\n",
       "    </tr>\n",
       "    <tr>\n",
       "      <th>14985</th>\n",
       "      <td>4216740</td>\n",
       "      <td>3364000</td>\n",
       "    </tr>\n",
       "    <tr>\n",
       "      <th>14541</th>\n",
       "      <td>4200071</td>\n",
       "      <td>2175000</td>\n",
       "    </tr>\n",
       "    <tr>\n",
       "      <th>14531</th>\n",
       "      <td>4200060</td>\n",
       "      <td>1248000</td>\n",
       "    </tr>\n",
       "    <tr>\n",
       "      <th>15734</th>\n",
       "      <td>4703330</td>\n",
       "      <td>3949000</td>\n",
       "    </tr>\n",
       "    <tr>\n",
       "      <th>9842</th>\n",
       "      <td>3300616</td>\n",
       "      <td>594000</td>\n",
       "    </tr>\n",
       "    <tr>\n",
       "      <th>14785</th>\n",
       "      <td>4206360</td>\n",
       "      <td>1720000</td>\n",
       "    </tr>\n",
       "    <tr>\n",
       "      <th>14466</th>\n",
       "      <td>4111790</td>\n",
       "      <td>390000</td>\n",
       "    </tr>\n",
       "    <tr>\n",
       "      <th>1724</th>\n",
       "      <td>614070</td>\n",
       "      <td>2037000</td>\n",
       "    </tr>\n",
       "    <tr>\n",
       "      <th>14557</th>\n",
       "      <td>4200088</td>\n",
       "      <td>647000</td>\n",
       "    </tr>\n",
       "    <tr>\n",
       "      <th>1283</th>\n",
       "      <td>600065</td>\n",
       "      <td>8128000</td>\n",
       "    </tr>\n",
       "    <tr>\n",
       "      <th>8012</th>\n",
       "      <td>2706240</td>\n",
       "      <td>2653000</td>\n",
       "    </tr>\n",
       "    <tr>\n",
       "      <th>10149</th>\n",
       "      <td>3400083</td>\n",
       "      <td>360000</td>\n",
       "    </tr>\n",
       "    <tr>\n",
       "      <th>6329</th>\n",
       "      <td>2400510</td>\n",
       "      <td>145009000</td>\n",
       "    </tr>\n",
       "  </tbody>\n",
       "</table>\n",
       "<p>3241 rows × 2 columns</p>\n",
       "</div>"
      ],
      "text/plain": [
       "         LEAID   fund_cut\n",
       "16153  4813020    3545000\n",
       "6490   2503870     701000\n",
       "15854  4800118    2977000\n",
       "16280  4817760    2116000\n",
       "15996  4801438     338000\n",
       "6460   2502710     792000\n",
       "6413   2500539     286000\n",
       "16377  4821540     391000\n",
       "16334  4819950    1364000\n",
       "6569   2506930     662000\n",
       "6628   2508910    1776000\n",
       "15917  4800231     125000\n",
       "16028  4807890    5462000\n",
       "10177  3400746      80000\n",
       "15987  4801429     186000\n",
       "16225  4815600     200000\n",
       "9721   3175810      96000\n",
       "6506   2504530     145000\n",
       "16260  4816920     126000\n",
       "15818  4800064      37000\n",
       "16025  4807780    1565000\n",
       "6480   2503330     261000\n",
       "9742   3177190     143000\n",
       "16213  4815210    3157000\n",
       "15980  4801422     192000\n",
       "16207  4814920     135000\n",
       "9714   3175390     287000\n",
       "15958  4801394     231000\n",
       "9632   3105630     273000\n",
       "9596   3101992     209000\n",
       "...        ...        ...\n",
       "8476   2900606     190000\n",
       "10000  3305700      64000\n",
       "8582   2910260      91000\n",
       "6961   2600970      28000\n",
       "6888   2600264     212000\n",
       "9251   3011340      47000\n",
       "691     400893     621000\n",
       "7382   2621570    2348000\n",
       "7260   2614230    1275000\n",
       "7421   2623670     620000\n",
       "7262   2614280    4337000\n",
       "7248   2612960     764000\n",
       "7115   2603810    1281000\n",
       "7217   2610860    1046000\n",
       "14356  4104500    4312000\n",
       "1510    603690   20885000\n",
       "2002    627200    3210000\n",
       "14985  4216740    3364000\n",
       "14541  4200071    2175000\n",
       "14531  4200060    1248000\n",
       "15734  4703330    3949000\n",
       "9842   3300616     594000\n",
       "14785  4206360    1720000\n",
       "14466  4111790     390000\n",
       "1724    614070    2037000\n",
       "14557  4200088     647000\n",
       "1283    600065    8128000\n",
       "8012   2706240    2653000\n",
       "10149  3400083     360000\n",
       "6329   2400510  145009000\n",
       "\n",
       "[3241 rows x 2 columns]"
      ]
     },
     "execution_count": 15,
     "metadata": {},
     "output_type": "execute_result"
    }
   ],
   "source": [
    "output"
   ]
  },
  {
   "cell_type": "markdown",
   "metadata": {},
   "source": [
    "# problem 5: justify:\n",
    "\n",
    "##  A good portion of shcools have non_federal_funds( funds except federal) more than the expense. So we can cut the federal funds from LEAs with almost enough non_federal_fund\n",
    "\n",
    "## defintion of LEAs with almost enough non_federal_fund: with non_federal_fund covering more than 90% expense\n",
    "\n",
    "## federal fund from the LEAs with non_federal_fund covering more than 90% expense > all the fund tha need to cut\n",
    "\n",
    "## After selecting LEA with enough non-federal funds,  we sort by LEA academic score to cut high-score school's funds, and we cut funds by this order until we have enough funds. This is because schools with high academic-scores tend to be wealthy, and poor people and schools with low academic-scores typically need more funding."
   ]
  },
  {
   "cell_type": "markdown",
   "metadata": {},
   "source": [
    "# hw4 sections"
   ]
  },
  {
   "cell_type": "markdown",
   "metadata": {},
   "source": [
    "## Q1: distribution plot and most fund lost ratio output"
   ]
  },
  {
   "cell_type": "code",
   "execution_count": 16,
   "metadata": {},
   "outputs": [
    {
     "data": {
      "text/plain": [
       "Text(0.5,1,'distribution for proportion of each district’s total funding that will be lost.')"
      ]
     },
     "execution_count": 16,
     "metadata": {},
     "output_type": "execute_result"
    },
    {
     "data": {
      "image/png": "[encoded data removed]",
      "text/plain": [
       "<Figure size 432x288 with 1 Axes>"
      ]
     },
     "metadata": {},
     "output_type": "display_data"
    }
   ],
   "source": [
    "cut_ratio=pd.merge(output, funds[[\"total_rev\",'LEAID']], how='left', on=['LEAID'])\n",
    "cut_ratio['cut_ratio'] = cut_ratio.fund_cut/cut_ratio.total_rev\n",
    "ax=cut_ratio['cut_ratio'].hist()\n",
    "ax.set_xlabel('funds_cut / total_revenue')\n",
    "ax.set_ylabel('count')\n",
    "ax.set_title(\"\\\n",
    "distribution for proportion of each district’s total funding that will be lost.\")\n"
   ]
  },
  {
   "cell_type": "code",
   "execution_count": 17,
   "metadata": {},
   "outputs": [
    {
     "name": "stdout",
     "output_type": "stream",
     "text": [
      "        LEAID  cut_ratio\n",
      "3217   400893   0.321930\n",
      "922   2680850   0.294253\n",
      "2884  4676680   0.274355\n",
      "3002   400190   0.264271\n",
      "2876   400235   0.251383\n"
     ]
    }
   ],
   "source": [
    "cut_ratio.sort_values(\"cut_ratio\", ascending=False, inplace=True,\n",
    "                      na_position='last')\n",
    "print( cut_ratio.head()[[\"LEAID\",\"cut_ratio\"]] )"
   ]
  },
  {
   "cell_type": "markdown",
   "metadata": {},
   "source": [
    "## Q2 \n",
    "using data from https://nces.ed.gov/ccd/pubagency.asp\n",
    "2015-16 student membership data v1.a, described in https://www2.ed.gov/about/inits/ed/edfacts/sy-15-16-nonxml.html"
   ]
  },
  {
   "cell_type": "code",
   "execution_count": 18,
   "metadata": {
    "scrolled": true
   },
   "outputs": [
    {
     "name": "stderr",
     "output_type": "stream",
     "text": [
      "/Users/yzh/anaconda3/lib/python3.6/site-packages/IPython/core/interactiveshell.py:2785: DtypeWarning: Columns (6) have mixed types. Specify dtype option on import or set low_memory=False.\n",
      "  interactivity=interactivity, compiler=compiler, result=result)\n"
     ]
    },
    {
     "data": {
      "text/plain": [
       "Index(['SURVYEAR', 'FIPST', 'STABR', 'STATENAME', 'SEANAME', 'LEAID',\n",
       "       'ST_LEAID', 'LEA_NAME', 'PK', 'KG',\n",
       "       ...\n",
       "       'BLALF', 'WH', 'WHALM', 'WHALF', 'HP', 'HPALM', 'HPALF', 'TR', 'TRALM',\n",
       "       'TRALF'],\n",
       "      dtype='object', length=286)"
      ]
     },
     "execution_count": 18,
     "metadata": {},
     "output_type": "execute_result"
    }
   ],
   "source": [
    "racial=pd.read_csv(\"/Users/yzh/Downloads/ccd_lea_052_1516_w_1a_011717.csv\")\n",
    "# racial.head()[['MEMBER','AM','AS','BL','HI','HP','WH']]\n",
    "# AM7 – American Indian or Alaska Native \n",
    "# AS7 – Asian \n",
    "# BL7 – Black or African American \n",
    "# HI7 – Hispanic/Latino \n",
    "# PI7(?HP) – Native Hawaiian or Other Pacific Islander \n",
    "# WH7 – White \n",
    "# MU7 ? missing? – Two or more races\n",
    "# MISSING\n",
    "racial.columns"
   ]
  },
  {
   "cell_type": "markdown",
   "metadata": {},
   "source": [
    "### get non_cut LEA and LEA with fund cut, merge racial data "
   ]
  },
  {
   "cell_type": "code",
   "execution_count": 19,
   "metadata": {},
   "outputs": [],
   "source": [
    "racial['LEAID']=racial['LEAID'].astype('object')\n",
    "\n",
    "\n",
    "not_cut=pd.DataFrame()\n",
    "not_cut['LEAID']=list( set(fiscal.LEAID)-set(output.LEAID))\n",
    "not_cut['LEAID']=not_cut['LEAID'].astype('object')\n",
    "not_cut=pd.merge(not_cut, racial[['MEMBER','LEAID','WH','BL','HI','AS']],\n",
    "                how='left', on='LEAID')\n",
    "not_cut=not_cut.dropna(subset=['MEMBER'])\n",
    "\n",
    "cut=pd.DataFrame()\n",
    "cut['LEAID']=list(set(output.LEAID))\n",
    "cut['LEAID']=cut['LEAID'].astype('object')\n",
    "cut=pd.merge(cut, racial[['MEMBER','LEAID','WH','BL','HI','AS']],\n",
    "                how='left', on='LEAID')\n",
    "cut=cut.dropna(subset=['MEMBER'])"
   ]
  },
  {
   "cell_type": "markdown",
   "metadata": {},
   "source": [
    " ## plot"
   ]
  },
  {
   "cell_type": "code",
   "execution_count": 20,
   "metadata": {},
   "outputs": [
    {
     "data": {
      "text/plain": [
       "Text(0.5,1,'distribution for white student, in LEAs with fund cut.')"
      ]
     },
     "execution_count": 20,
     "metadata": {},
     "output_type": "execute_result"
    },
    {
     "data": {
      "image/png": "[encoded data removed]",
      "text/plain": [
       "<Figure size 432x288 with 1 Axes>"
      ]
     },
     "metadata": {},
     "output_type": "display_data"
    }
   ],
   "source": [
    "cut['wh_ratio']=(cut.WH)/(cut.MEMBER)\n",
    "not_cut['wh_ratio']=(not_cut.WH)/(not_cut.MEMBER)\n",
    "ax=cut['wh_ratio'].hist()\n",
    "ax.set_xlabel('white student ratio')\n",
    "ax.set_ylabel('count')\n",
    "ax.set_title(\"distribution for white student, in LEAs with fund cut.\")"
   ]
  },
  {
   "cell_type": "code",
   "execution_count": 21,
   "metadata": {},
   "outputs": [
    {
     "data": {
      "text/plain": [
       "Text(0.5,1,'distribution for white student ratio, in LEAs without fund cut.')"
      ]
     },
     "execution_count": 21,
     "metadata": {},
     "output_type": "execute_result"
    },
    {
     "data": {
      "image/png": "[encoded data removed]",
      "text/plain": [
       "<Figure size 432x288 with 1 Axes>"
      ]
     },
     "metadata": {},
     "output_type": "display_data"
    }
   ],
   "source": [
    "ax=not_cut['wh_ratio'].hist()\n",
    "ax.set_xlabel('white student ratio')\n",
    "ax.set_ylabel('count')\n",
    "ax.set_title(\"\\\n",
    "distribution for white student ratio, in LEAs without fund cut.\")"
   ]
  },
  {
   "cell_type": "code",
   "execution_count": 22,
   "metadata": {},
   "outputs": [
    {
     "data": {
      "text/plain": [
       "Text(0.5,1,'distribution for black student, in LEAs with fund cut.')"
      ]
     },
     "execution_count": 22,
     "metadata": {},
     "output_type": "execute_result"
    },
    {
     "data": {
      "image/png": "[encoded data removed]",
      "text/plain": [
       "<Figure size 432x288 with 1 Axes>"
      ]
     },
     "metadata": {},
     "output_type": "display_data"
    }
   ],
   "source": [
    "cut['bl_ratio']=(cut.BL)/(cut.MEMBER)\n",
    "not_cut['bl_ratio']=(not_cut.BL)/(not_cut.MEMBER)\n",
    "\n",
    "ax=cut['bl_ratio'].hist()\n",
    "ax.set_xlabel('black student ratio')\n",
    "ax.set_ylabel('count')\n",
    "ax.set_title(\"distribution for black student, in LEAs with fund cut.\")"
   ]
  },
  {
   "cell_type": "code",
   "execution_count": 23,
   "metadata": {},
   "outputs": [
    {
     "data": {
      "text/plain": [
       "Text(0.5,1,'distribution for black student, in LEAs without fund cut.')"
      ]
     },
     "execution_count": 23,
     "metadata": {},
     "output_type": "execute_result"
    },
    {
     "data": {
      "image/png": "[encoded data removed]",
      "text/plain": [
       "<Figure size 432x288 with 1 Axes>"
      ]
     },
     "metadata": {},
     "output_type": "display_data"
    }
   ],
   "source": [
    "ax=not_cut['bl_ratio'].hist()\n",
    "ax.set_xlabel('black student ratio')\n",
    "ax.set_ylabel('count')\n",
    "ax.set_title(\"distribution for black student, in LEAs without fund cut.\")"
   ]
  },
  {
   "cell_type": "code",
   "execution_count": null,
   "metadata": {},
   "outputs": [],
   "source": []
  }
 ],
 "metadata": {
  "kernelspec": {
   "display_name": "Python 3",
   "language": "python",
   "name": "python3"
  },
  "language_info": {
   "codemirror_mode": {
    "name": "ipython",
    "version": 3
   },
   "file_extension": ".py",
   "mimetype": "text/x-python",
   "name": "python",
   "nbconvert_exporter": "python",
   "pygments_lexer": "ipython3",
   "version": "3.6.5"
  }
 },
 "nbformat": 4,
 "nbformat_minor": 2
}
